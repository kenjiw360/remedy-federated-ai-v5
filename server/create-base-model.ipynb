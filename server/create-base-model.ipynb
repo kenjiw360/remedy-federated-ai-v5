{
 "cells": [
  {
   "cell_type": "code",
   "execution_count": 1,
   "metadata": {},
   "outputs": [],
   "source": [
    "import matplotlib.pyplot as plt\n",
    "from PIL import Image, ImageOps\n",
    "import numpy as np\n",
    "import pathlib\n",
    "import os\n",
    "\n",
    "import tensorflow as tf\n",
    "from tensorflow import keras\n",
    "from tensorflow.keras import layers\n",
    "from tensorflow.keras.models import Sequential"
   ]
  },
  {
   "cell_type": "code",
   "execution_count": 2,
   "metadata": {},
   "outputs": [],
   "source": [
    "model = Sequential([\n",
    "\tlayers.Rescaling(1./255, input_shape=(256, 256, 3)),\n",
    "\tlayers.RandomRotation(0.1),\n",
    "\tlayers.RandomZoom(0.1),\n",
    "\tlayers.Conv2D(64, 3, padding='same', activation='relu'),\n",
    "\tlayers.MaxPooling2D(),\n",
    "\tlayers.Conv2D(128, 3, padding='same', activation='relu'),\n",
    "\tlayers.MaxPooling2D(),\n",
    "\tlayers.Conv2D(256, 3, padding='same', activation='relu'),\n",
    "\tlayers.MaxPooling2D(),\n",
    "\tlayers.Conv2D(256, 3, padding='same', activation='relu'),\n",
    "\tlayers.MaxPooling2D(),\n",
    "\tlayers.Flatten(),\n",
    "\tlayers.Dense(128, activation='relu'),\n",
    "\tlayers.Dense(8)\n",
    "])"
   ]
  },
  {
   "cell_type": "code",
   "execution_count": 4,
   "metadata": {},
   "outputs": [],
   "source": [
    "model.save('base.keras', overwrite=True)"
   ]
  },
  {
   "cell_type": "code",
   "execution_count": null,
   "metadata": {},
   "outputs": [],
   "source": []
  }
 ],
 "metadata": {
  "kernelspec": {
   "display_name": "remedy",
   "language": "python",
   "name": "python3"
  },
  "language_info": {
   "codemirror_mode": {
    "name": "ipython",
    "version": 3
   },
   "file_extension": ".py",
   "mimetype": "text/x-python",
   "name": "python",
   "nbconvert_exporter": "python",
   "pygments_lexer": "ipython3",
   "version": "3.11.1"
  }
 },
 "nbformat": 4,
 "nbformat_minor": 2
}
